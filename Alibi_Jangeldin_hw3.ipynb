{
 "cells": [
  {
   "cell_type": "markdown",
   "metadata": {},
   "source": [
    "# Alibi Jangeldin HW3 ML"
   ]
  },
  {
   "cell_type": "code",
   "execution_count": 1,
   "metadata": {
    "collapsed": true
   },
   "outputs": [],
   "source": [
    "import numpy as np\n",
    "import matplotlib.pyplot as plt\n",
    "from numpy import loadtxt"
   ]
  },
  {
   "cell_type": "code",
   "execution_count": 2,
   "metadata": {},
   "outputs": [],
   "source": [
    "train = loadtxt(\"logreg_data_binary.txt\", comments=\"/n\", delimiter=\" \", unpack=False)\n",
    "test = loadtxt(\"test_data_binary.txt\", comments=\"/n\", delimiter=\" \", unpack=False)\n",
    "X_train=train[:,1:4]\n",
    "Y_train=train[:,0].reshape(len(train), 1)\n",
    "X_test=test[:,1:4]\n",
    "Y_test=test[:,0].reshape(len(test), 1)"
   ]
  },
  {
   "cell_type": "code",
   "execution_count": 3,
   "metadata": {},
   "outputs": [],
   "source": [
    "mean=np.mean(X_train, axis=0)\n",
    "std=np.std(X_train, axis=0)\n",
    "X_train=(X_train-mean)/std\n",
    "X_test=(X_test-mean)/std"
   ]
  },
  {
   "cell_type": "code",
   "execution_count": 4,
   "metadata": {},
   "outputs": [],
   "source": [
    "X_train = np.hstack((np.ones((len(X_train), 1)), X_train))\n",
    "X_test = np.hstack((np.ones((len(X_test), 1)), X_test))"
   ]
  },
  {
   "cell_type": "code",
   "execution_count": 5,
   "metadata": {
    "collapsed": true
   },
   "outputs": [],
   "source": [
    "def sigmoid(x):\n",
    "    sigm=1.0/(1+np.exp(-x))\n",
    "    return sigm"
   ]
  },
  {
   "cell_type": "code",
   "execution_count": 6,
   "metadata": {},
   "outputs": [],
   "source": [
    "def nll_func(weights, x, y):\n",
    "    m=len(y)\n",
    "    sigm=sigmoid(x.dot(weights))\n",
    "    J=-np.sum(y*np.log(sigm)+(1-y)*np.log(1-sigm))\n",
    "    return J"
   ]
  },
  {
   "cell_type": "code",
   "execution_count": 7,
   "metadata": {
    "collapsed": true
   },
   "outputs": [],
   "source": [
    "#2 Stochastic gradient descent\n",
    "def sgd(train_x, train_y, train_w, lr=0.05, iters=100):\n",
    "    batch_size=20\n",
    "    nll_hist=np.zeros(iters)\n",
    "    loss_hist=np.zeros(iters)\n",
    "    for j in range(iters):\n",
    "        for i in np.arange(0, X_train.shape[0], batch_size):\n",
    "            new_x=train_x[i:i+batch_size].reshape(batch_size, train_x.shape[1])\n",
    "            new_y=train_y[i:i+batch_size].reshape(batch_size, 1)\n",
    "            sigm=sigmoid(new_x.dot(train_w))\n",
    "            error=sigm-new_y\n",
    "            loss=np.sum(error**2)\n",
    "            gradient=np.dot(new_x.T, error) / batch_size\n",
    "            train_w = train_w-lr * gradient\n",
    "        loss_hist[j]=loss\n",
    "        nll_hist[j]=nll_func(train_w, train_x, train_y)\n",
    "    return train_w, nll_hist, loss_hist"
   ]
  },
  {
   "cell_type": "code",
   "execution_count": 8,
   "metadata": {},
   "outputs": [],
   "source": [
    "w = np.random.randn(X_train.shape[1], 1)\n",
    "w_sgd, nll_history, loss_history = sgd(X_train, Y_train, w)"
   ]
  },
  {
   "cell_type": "code",
   "execution_count": 9,
   "metadata": {},
   "outputs": [
    {
     "name": "stdout",
     "output_type": "stream",
     "text": [
      "1) Decreasing of  NLL (negative log-likelihood) function with the increasing of iteration numbers\n"
     ]
    },
    {
     "data": {
      "image/png": "[encoded data removed]",
      "text/plain": [
       "<matplotlib.figure.Figure at 0x154b111059b0>"
      ]
     },
     "metadata": {},
     "output_type": "display_data"
    }
   ],
   "source": [
    "plt.plot(nll_history)\n",
    "plt.xlabel(\"Iteration #\")\n",
    "plt.ylabel(\"NLL values\")\n",
    "print(\"1) Decreasing of  NLL (negative log-likelihood) function with the increasing of iteration numbers\")\n",
    "plt.show()"
   ]
  },
  {
   "cell_type": "code",
   "execution_count": 10,
   "metadata": {},
   "outputs": [
    {
     "name": "stdout",
     "output_type": "stream",
     "text": [
      "2) Obtained coefficient w  \n",
      " [[-0.81892125]\n",
      " [ 0.47059911]\n",
      " [ 0.25003173]\n",
      " [ 0.78521378]]\n"
     ]
    }
   ],
   "source": [
    "print(\"2) Obtained coefficient w  \\n\", w_sgd)"
   ]
  },
  {
   "cell_type": "markdown",
   "metadata": {},
   "source": [
    "The slope is -1 and it is just a bias or average term independent of features. The fact that one of the parents obtained graduate degree has moderate positive effect on the outcome since it is higher than 0. The fact that institution is public has relatively small positive effect on the outcome. The gpa highness has significant positive effect on the outcome. This coincides with my expectations about the effect of this parameters on grad school admission process."
   ]
  },
  {
   "cell_type": "code",
   "execution_count": 11,
   "metadata": {
    "collapsed": true
   },
   "outputs": [],
   "source": [
    "def accuracy(weights, X, Y):\n",
    "    preds=sigmoid(X.dot(weights))\n",
    "    acc=0\n",
    "    for i in range(len(preds)):\n",
    "        if(preds[i]>0.5):\n",
    "            preds[i]=1\n",
    "        else:\n",
    "            preds[i]=0\n",
    "    for i in range(len(preds)):\n",
    "        if(preds[i]==Y[i]):\n",
    "            acc+=1\n",
    "    return acc/len(preds)"
   ]
  },
  {
   "cell_type": "code",
   "execution_count": 12,
   "metadata": {},
   "outputs": [
    {
     "name": "stdout",
     "output_type": "stream",
     "text": [
      "3) Number of correctly predicted students outcomes from test data is  49.0\n",
      "Percentage accuracy on test set is 49/70 = 0.7\n"
     ]
    }
   ],
   "source": [
    "print(\"3) Number of correctly predicted students outcomes from test data is \", accuracy(w_sgd, X_test, Y_test)*len(X_test))\n",
    "print(\"Percentage accuracy on test set is 49/70 =\", accuracy(w_sgd, X_test, Y_test))\n",
    "#print(\"Percentage accuracy on the training set is \", accuracy(w_sgd, X_train, Y_train))"
   ]
  },
  {
   "cell_type": "markdown",
   "metadata": {},
   "source": [
    "49/70 test data points were correctly predicted and expectedly higher percentage of points in training data was correctly classified since we trained on it."
   ]
  },
  {
   "cell_type": "code",
   "execution_count": 13,
   "metadata": {},
   "outputs": [],
   "source": [
    "X_train_gpa=X_train[:,3].reshape(len(X_train), 1)\n",
    "X_train_gpa = np.hstack((np.ones((len(X_train), 1)), X_train_gpa))\n",
    "X_test_gpa = X_test[:,3].reshape(len(X_test), 1)\n",
    "X_test_gpa = np.hstack((np.ones((len(X_test), 1)), X_test_gpa))\n",
    "\n",
    "w_gpa = np.random.randn(X_train_gpa.shape[1], 1)\n",
    "w_sgd_gpa, nll_history, loss_history = sgd(X_train_gpa, Y_train, w_gpa)"
   ]
  },
  {
   "cell_type": "code",
   "execution_count": 14,
   "metadata": {},
   "outputs": [
    {
     "name": "stdout",
     "output_type": "stream",
     "text": [
      "Number of correctly predicted students outcomes from test data is  49.0\n",
      "2) 1) Percentage accuracy on test set is  0.7\n"
     ]
    }
   ],
   "source": [
    "print(\"Number of correctly predicted students outcomes from test data is \", accuracy(w_sgd_gpa, X_test_gpa, Y_test)*len(X_test))\n",
    "print(\"2) 1) Percentage accuracy on test set is \", accuracy(w_sgd_gpa, X_test_gpa, Y_test))\n",
    "#print(\"Percentage accuracy on the training set is \", accuracy(w_sgd_gpa, X_train_gpa, Y_train))"
   ]
  },
  {
   "cell_type": "markdown",
   "metadata": {},
   "source": [
    "Unexpectedly, number of correctly predicted outcomes on the test set did not decrease with only GPA feature, this may be because other features are not predictive on the test set."
   ]
  },
  {
   "cell_type": "code",
   "execution_count": 18,
   "metadata": {},
   "outputs": [
    {
     "data": {
      "image/png": "[encoded data removed]",
      "text/plain": [
       "<matplotlib.figure.Figure at 0x154b058f3550>"
      ]
     },
     "metadata": {},
     "output_type": "display_data"
    },
    {
     "name": "stdout",
     "output_type": "stream",
     "text": [
      "2) 3)  [ 3.34931276]\n"
     ]
    }
   ],
   "source": [
    "plt.plot(X_train_gpa[:,1]*std[2]+mean[2], Y_train, c='blue', marker=(5, 1))\n",
    "plt.plot(X_train_gpa[:,1]*std[2]+mean[2], sigmoid(X_train_gpa.dot(w_sgd_gpa)), 'ro', c='red')\n",
    "plt.plot([3.35, 3.35], [0, 1], marker = 'o')\n",
    "plt.plot([2, 4], [0.5, 0.5], marker = 'o')\n",
    "plt.xlabel(\"GPA value\")\n",
    "plt.ylabel(\"Admission outcome\")\n",
    "plt.title(\"2) 2)\")\n",
    "plt.show()\n",
    "print(\"2) 3) \", -w_sgd_gpa[0]/w_sgd_gpa[1]*std[2]+mean[2])"
   ]
  },
  {
   "cell_type": "markdown",
   "metadata": {},
   "source": [
    "2) 3) As we can see from the plot a cutting value for probability 0.5 is GPA>3.35 in the original scale. Classification boundary is linear since we are using only one feature. This coincides with my expectations for admission to grad school since I also had about this GPA and now I'm here doing this homework. To be more specific, we can calculate the value using the fact that inverse of sigmoid(0.5)=0 and get the value above."
   ]
  },
  {
   "cell_type": "code",
   "execution_count": 192,
   "metadata": {},
   "outputs": [],
   "source": [
    "def IRLS(y, X):\n",
    "    n, _ = X.shape\n",
    "    #W is an identitity matrix that would be used for WLS as diagonal matrix\n",
    "    W = np.eye(n)\n",
    "    #beta is our parameters to which we use initial guess of OLS for faster convergence\n",
    "    w_irls = np.linalg.inv(X.T.dot(X)).dot(X.T).dot(y)\n",
    "    \n",
    "    for iter in range(100):\n",
    "        pi = sigmoid(X.dot(w_irls))\n",
    "        #filling the diagonal of W with parameters reflecting weights in WLS updated in each step through beta\n",
    "        for i in range(n):\n",
    "            W[i,i] = np.multiply(pi,(1 - pi)).reshape(n)[i]\n",
    "        #updating the parameters themselves with new pi and W updated from previous iteration\n",
    "        w_irls_final = w_irls + np.linalg.inv((X.T.dot(W)).dot(X)).dot(X.T).dot(y - pi)\n",
    "        #calculating the progress in estimation until the change will be negligible for our convergence purposes\n",
    "        error = max(abs((w_irls_final - w_irls)/w_irls_final))\n",
    "        if error < 1e-15:\n",
    "            print(\"Converged in \",iter+1,\"iterations\")\n",
    "            return w_irls_final\n",
    "        w_irls=w_irls_final"
   ]
  },
  {
   "cell_type": "code",
   "execution_count": 193,
   "metadata": {
    "scrolled": false
   },
   "outputs": [
    {
     "name": "stdout",
     "output_type": "stream",
     "text": [
      "Converged in  7 iterations\n"
     ]
    }
   ],
   "source": [
    "w_irls = IRLS(Y_train, X_train)"
   ]
  },
  {
   "cell_type": "code",
   "execution_count": 194,
   "metadata": {},
   "outputs": [
    {
     "name": "stdout",
     "output_type": "stream",
     "text": [
      "0.00125053650856\n"
     ]
    }
   ],
   "source": [
    "print(np.sum((w_irls-w_sgd)**2))"
   ]
  },
  {
   "cell_type": "markdown",
   "metadata": {},
   "source": [
    "Qestion 2) bonus) IRLS algorithm is described in PRML book at page 207. For this problem we do not have analytical solution like OLS for linear regression because of sigmoid nonlinearity. Nevertheless, since our loss is convex we can use Newton-Raphson method for optimization. It is based on updating parameters using Hessian instead of the gradient, the main idea is in iteratively updating the weights based on weighted least squares solution. Using it we can converge to the solution much faster (only 7 iterations) than mini batch SGD above (50 iterations with 5 batches which can be approximated as 50/5>=10 iterations on the whole dataset). I think that the reason for this is because we are using Hessian which carries information that allows us faster convergence. Checking the difference between learned parameters with the one obtained from SGD shows that they are very close to each other."
   ]
  },
  {
   "cell_type": "code",
   "execution_count": null,
   "metadata": {
    "collapsed": true
   },
   "outputs": [],
   "source": []
  }
 ],
 "metadata": {
  "kernelspec": {
   "display_name": "Python 3",
   "language": "python",
   "name": "python3"
  },
  "language_info": {
   "codemirror_mode": {
    "name": "ipython",
    "version": 3
   },
   "file_extension": ".py",
   "mimetype": "text/x-python",
   "name": "python",
   "nbconvert_exporter": "python",
   "pygments_lexer": "ipython3",
   "version": "3.6.3"
  }
 },
 "nbformat": 4,
 "nbformat_minor": 2
}
